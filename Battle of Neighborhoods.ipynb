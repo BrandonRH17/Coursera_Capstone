{
 "cells": [
  {
   "cell_type": "markdown",
   "metadata": {
    "collapsed": true
   },
   "source": [
    "# Week 1 "
   ]
  },
  {
   "cell_type": "markdown",
   "metadata": {},
   "source": [
    "1. A common problem in highly poblated cities like Toronto is to find a nice spot to establish a restaurant chain. This can be caused due to the high offer in fast food restaurants, as well as high diversity in already established restaurants. This problem can be solved utilizing FourSquare API as well as Machine Learning applications, to find the most optimal spot to establish the restaurant and have the most chances of success. \n",
    "In this case, the study will be targeted towards entrepeneurs that want to impact the food market, helping them make the most educated decisions to start their business with data analysis."
   ]
  },
  {
   "cell_type": "markdown",
   "metadata": {},
   "source": [
    "2. In this case, the data we will be using will be provided by the FourSquare API, using the data provided like: nearby restaurants, near train stations, near public transport stations and analyze the social status of the neighborhoods to establish a restaurant that can appeal to the general demographic in the area. "
   ]
  },
  {
   "cell_type": "code",
   "execution_count": null,
   "metadata": {},
   "outputs": [],
   "source": []
  }
 ],
 "metadata": {
  "kernelspec": {
   "display_name": "Python 3.7",
   "language": "python",
   "name": "python3"
  },
  "language_info": {
   "codemirror_mode": {
    "name": "ipython",
    "version": 3
   },
   "file_extension": ".py",
   "mimetype": "text/x-python",
   "name": "python",
   "nbconvert_exporter": "python",
   "pygments_lexer": "ipython3",
   "version": "3.7.10"
  }
 },
 "nbformat": 4,
 "nbformat_minor": 1
}
